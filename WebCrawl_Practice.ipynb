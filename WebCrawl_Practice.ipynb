{
 "cells": [
  {
   "cell_type": "code",
   "execution_count": 1,
   "id": "332c5d31",
   "metadata": {},
   "outputs": [],
   "source": [
    "# import dependencies like re (regex)\n",
    "import re"
   ]
  },
  {
   "cell_type": "code",
   "execution_count": 12,
   "id": "3113e8c8",
   "metadata": {},
   "outputs": [],
   "source": [
    "def RemoveHTMLTags(strr):\n",
    "     \n",
    "    # Print string after removing tags\n",
    "    result = re.compile(r'<[^>]+>').sub('', strr)\n",
    "    return result\n"
   ]
  },
  {
   "cell_type": "code",
   "execution_count": 24,
   "id": "2371fd57",
   "metadata": {},
   "outputs": [],
   "source": [
    "strr = '<li style=\"padding-left:30px;\">I know the best places to park and short-cuts to easily get to Shake Shack<img loading=\"lazy\" data-attachment-id=\"838\" data-permalink=\"https://gcmastra.wordpress.com/2014/12/27/year-in-review-2014/10386893_10152502981404720_7957603431735628224_o/\" data-orig-file=\"https://gcmastra.files.wordpress.com/2018/02/10386893_10152502981404720_7957603431735628224_o.jpg\" data-orig-size=\"1136,814\" data-comments-opened=\"1\" data-image-meta=\"{&quot;aperture&quot;:&quot;0&quot;,&quot;credit&quot;:&quot;&quot;,&quot;camera&quot;:&quot;&quot;,&quot;caption&quot;:&quot;&quot;,&quot;created_timestamp&quot;:&quot;0&quot;,&quot;copyright&quot;:&quot;&quot;,&quot;focal_length&quot;:&quot;0&quot;,&quot;iso&quot;:&quot;0&quot;,&quot;shutter_speed&quot;:&quot;0&quot;,&quot;title&quot;:&quot;&quot;,&quot;orientation&quot;:&quot;0&quot;}\" data-image-title=\"10386893_10152502981404720_7957603431735628224_o\" data-image-description=\"\" data-image-caption=\"\" data-medium-file=\"https://gcmastra.files.wordpress.com/2018/02/10386893_10152502981404720_7957603431735628224_o.jpg?w=300\" data-large-file=\"https://gcmastra.files.wordpress.com/2018/02/10386893_10152502981404720_7957603431735628224_o.jpg?w=584\" class=\"alignnone size-full wp-image-838\" src=\"https://gcmastra.files.wordpress.com/2018/02/10386893_10152502981404720_7957603431735628224_o.jpg\" alt=\"\" width=\"584\" height=\"418\" srcset=\"https://gcmastra.files.wordpress.com/2018/02/10386893_10152502981404720_7957603431735628224_o.jpg?w=584&amp;h=418 584w, https://gcmastra.files.wordpress.com/2018/02/10386893_10152502981404720_7957603431735628224_o.jpg?w=150&amp;h=107 150w, https://gcmastra.files.wordpress.com/2018/02/10386893_10152502981404720_7957603431735628224_o.jpg?w=300&amp;h=215 300w, https://gcmastra.files.wordpress.com/2018/02/10386893_10152502981404720_7957603431735628224_o.jpg?w=768&amp;h=550 768w, https://gcmastra.files.wordpress.com/2018/02/10386893_10152502981404720_7957603431735628224_o.jpg?w=1024&amp;h=734 1024w, https://gcmastra.files.wordpress.com/2018/02/10386893_10152502981404720_7957603431735628224_o.jpg 1136w\" sizes=\"(max-width: 584px) 100vw, 584px\"> on Dupont Circle (mostly on weekends or weeknights after 6 PM)</li>'\n",
    "\n",
    "\n"
   ]
  },
  {
   "cell_type": "code",
   "execution_count": 25,
   "id": "d2dbd2a4",
   "metadata": {},
   "outputs": [
    {
     "name": "stdout",
     "output_type": "stream",
     "text": [
      "<li style=\"padding-left:30px;\">I know the best places to park and short-cuts to easily get to Shake Shack<img loading=\"lazy\" data-attachment-id=\"838\" data-permalink=\"https://gcmastra.wordpress.com/2014/12/27/year-in-review-2014/10386893_10152502981404720_7957603431735628224_o/\" data-orig-file=\"https://gcmastra.files.wordpress.com/2018/02/10386893_10152502981404720_7957603431735628224_o.jpg\" data-orig-size=\"1136,814\" data-comments-opened=\"1\" data-image-meta=\"{&quot;aperture&quot;:&quot;0&quot;,&quot;credit&quot;:&quot;&quot;,&quot;camera&quot;:&quot;&quot;,&quot;caption&quot;:&quot;&quot;,&quot;created_timestamp&quot;:&quot;0&quot;,&quot;copyright&quot;:&quot;&quot;,&quot;focal_length&quot;:&quot;0&quot;,&quot;iso&quot;:&quot;0&quot;,&quot;shutter_speed&quot;:&quot;0&quot;,&quot;title&quot;:&quot;&quot;,&quot;orientation&quot;:&quot;0&quot;}\" data-image-title=\"10386893_10152502981404720_7957603431735628224_o\" data-image-description=\"\" data-image-caption=\"\" data-medium-file=\"https://gcmastra.files.wordpress.com/2018/02/10386893_10152502981404720_7957603431735628224_o.jpg?w=300\" data-large-file=\"https://gcmastra.files.wordpress.com/2018/02/10386893_10152502981404720_7957603431735628224_o.jpg?w=584\" class=\"alignnone size-full wp-image-838\" src=\"https://gcmastra.files.wordpress.com/2018/02/10386893_10152502981404720_7957603431735628224_o.jpg\" alt=\"\" width=\"584\" height=\"418\" srcset=\"https://gcmastra.files.wordpress.com/2018/02/10386893_10152502981404720_7957603431735628224_o.jpg?w=584&amp;h=418 584w, https://gcmastra.files.wordpress.com/2018/02/10386893_10152502981404720_7957603431735628224_o.jpg?w=150&amp;h=107 150w, https://gcmastra.files.wordpress.com/2018/02/10386893_10152502981404720_7957603431735628224_o.jpg?w=300&amp;h=215 300w, https://gcmastra.files.wordpress.com/2018/02/10386893_10152502981404720_7957603431735628224_o.jpg?w=768&amp;h=550 768w, https://gcmastra.files.wordpress.com/2018/02/10386893_10152502981404720_7957603431735628224_o.jpg?w=1024&amp;h=734 1024w, https://gcmastra.files.wordpress.com/2018/02/10386893_10152502981404720_7957603431735628224_o.jpg 1136w\" sizes=\"(max-width: 584px) 100vw, 584px\"> on Dupont Circle (mostly on weekends or weeknights after 6 PM)</li>\n"
     ]
    }
   ],
   "source": [
    "print(strr)"
   ]
  },
  {
   "cell_type": "code",
   "execution_count": 26,
   "id": "6e47b3bb",
   "metadata": {},
   "outputs": [
    {
     "name": "stdout",
     "output_type": "stream",
     "text": [
      "I know the best places to park and short-cuts to easily get to Shake Shack on Dupont Circle (mostly on weekends or weeknights after 6 PM)\n"
     ]
    }
   ],
   "source": [
    "result = RemoveHTMLTags(strr)\n",
    "print(result)"
   ]
  },
  {
   "cell_type": "code",
   "execution_count": null,
   "id": "689984a4",
   "metadata": {},
   "outputs": [],
   "source": [
    "# more functions I need will be \n",
    "# strip out commas\n",
    "# replace period with comma\n",
    "# remove format strings like &#8220;\n",
    "# remove left and right parens ? \n"
   ]
  }
 ],
 "metadata": {
  "kernelspec": {
   "display_name": "final_project",
   "language": "python",
   "name": "final_project"
  },
  "language_info": {
   "codemirror_mode": {
    "name": "ipython",
    "version": 3
   },
   "file_extension": ".py",
   "mimetype": "text/x-python",
   "name": "python",
   "nbconvert_exporter": "python",
   "pygments_lexer": "ipython3",
   "version": "3.7.11"
  }
 },
 "nbformat": 4,
 "nbformat_minor": 5
}

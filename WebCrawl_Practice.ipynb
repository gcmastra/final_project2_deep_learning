{
 "cells": [
  {
   "cell_type": "code",
   "execution_count": 1,
   "id": "f8367a5c",
   "metadata": {},
   "outputs": [],
   "source": [
    "# import dependencies like re (regex)\n",
    "import re"
   ]
  },
  {
   "cell_type": "code",
   "execution_count": 12,
   "id": "5541416e",
   "metadata": {},
   "outputs": [],
   "source": [
    "def RemoveHTMLTags(strr):\n",
    "     \n",
    "    # Print string after removing tags\n",
    "    result = re.compile(r'<[^>]+>').sub('', strr)\n",
    "    return result\n"
   ]
  },
  {
   "cell_type": "code",
   "execution_count": 20,
   "id": "7a630acb",
   "metadata": {},
   "outputs": [],
   "source": [
    "strr = '<p>Coincidentally, I watched &#8220;<a href=\"https://en.wikipedia.org/wiki/The_China_Syndrome\" target=\"_blank\" rel=\"noopener\">The China Syndrome</a>&#8221; last night on cable, the one from 1979 with Jane Fonda, Michael Douglas, Jack Lemmon, Wilford Brimley, and a great supporting cast.</p>'\n",
    "\n",
    "\n"
   ]
  },
  {
   "cell_type": "code",
   "execution_count": 21,
   "id": "e7dc3808",
   "metadata": {},
   "outputs": [
    {
     "name": "stdout",
     "output_type": "stream",
     "text": [
      "<p>Coincidentally, I watched &#8220;<a href=\"https://en.wikipedia.org/wiki/The_China_Syndrome\" target=\"_blank\" rel=\"noopener\">The China Syndrome</a>&#8221; last night on cable, the one from 1979 with Jane Fonda, Michael Douglas, Jack Lemmon, Wilford Brimley, and a great supporting cast.</p>\n"
     ]
    }
   ],
   "source": [
    "print(strr)"
   ]
  },
  {
   "cell_type": "code",
   "execution_count": 23,
   "id": "9518f733",
   "metadata": {},
   "outputs": [
    {
     "name": "stdout",
     "output_type": "stream",
     "text": [
      "Coincidentally, I watched &#8220;The China Syndrome&#8221; last night on cable, the one from 1979 with Jane Fonda, Michael Douglas, Jack Lemmon, Wilford Brimley, and a great supporting cast.\n"
     ]
    }
   ],
   "source": [
    "result = RemoveHTMLTags(strr)\n",
    "print(result)"
   ]
  },
  {
   "cell_type": "code",
   "execution_count": null,
   "id": "c5ccdf83",
   "metadata": {},
   "outputs": [],
   "source": [
    "# next need more functions \n",
    "# strip out commas\n",
    "# replace period with comma\n",
    "# remove format strings like &#8220;"
   ]
  }
 ],
 "metadata": {
  "kernelspec": {
   "display_name": "final_project",
   "language": "python",
   "name": "final_project"
  },
  "language_info": {
   "codemirror_mode": {
    "name": "ipython",
    "version": 3
   },
   "file_extension": ".py",
   "mimetype": "text/x-python",
   "name": "python",
   "nbconvert_exporter": "python",
   "pygments_lexer": "ipython3",
   "version": "3.7.11"
  }
 },
 "nbformat": 4,
 "nbformat_minor": 5
}
